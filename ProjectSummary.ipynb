{
 "cells": [
  {
   "cell_type": "markdown",
   "metadata": {},
   "source": [
    "# Project Summary\n",
    "#### Devin Shirley, Madison Karlin, Katherine Koczwara, Melissa Stephens\n"
   ]
  },
  {
   "cell_type": "markdown",
   "metadata": {},
   "source": [
    "### Part 1\n",
    "Blasted 'uniquetranscripts.fasta' in the BLAST_DNA_hits repo\n",
    "* nucleotide collection\n",
    "* normal defaults\n",
    "* highly similar sequence option\n",
    "\n",
    "Saved and downloaded hits tables to repo, see 'HitTable1',1-6"
   ]
  },
  {
   "cell_type": "markdown",
   "metadata": {},
   "source": [
    "### Part 2\n",
    "Using unix we made a table that includes the top hit for each transcript (6) \n",
    "* Chose with highest percent identity and highest max score"
   ]
  },
  {
   "cell_type": "markdown",
   "metadata": {
    "collapsed": true
   },
   "source": [
    "##### pseudo unix code\n",
    "for files in 'all of the csvs'; get the top line of the document since it is sorted that way as a default, read just that line, move that to a file; repeat for each csv \n"
   ]
  },
  {
   "cell_type": "code",
   "execution_count": null,
   "metadata": {
    "collapsed": true
   },
   "outputs": [],
   "source": [
    "##### actual unix code \n",
    "#see 'top_hits_unix_code'\n",
    "\n",
    "for file in *.csv; do head -1 $file | cat top_hits; done\n",
    "\n",
    "#Unix code that works when the data is in different .csv files, have to be the only csv files in the repo\n",
    "\n",
    "\n"
   ]
  },
  {
   "cell_type": "markdown",
   "metadata": {},
   "source": [
    "##### Extra Notes\n",
    "The disovered accession number from the table can be searched (this is still a nucleotide sequence), on its NCBI page we then found the protein under the CDS subheading which is hyperlinked, after clicking on it we could see the name of the protein"
   ]
  },
  {
   "cell_type": "markdown",
   "metadata": {},
   "source": [
    "### Part 3\n",
    "Searched NCBI protein database (https://www.ncbi.nlm.nih.gov/protein) for protein from each top hit   \n",
    "* filtered by taxon\n",
    "    + View as a tree\n",
    "* Choose 10-20 protein sequences from closely related species (Muridae is family mice/rats are in)\n",
    "* Create 1 fasta file per transcript (6)\n",
    "Added each file to the 'BLAST_Proteins' repo\n",
    "    see Protein_1_Gluthanione....\n",
    "    Protein_2....\n",
    "    ....\n",
    "\n",
    "While doing this step we also did the further exploration steps for nonmammalls (fish,turtles,birds, etc) and primates (humans, apes) and added their protein fasta files to the repo"
   ]
  },
  {
   "cell_type": "markdown",
   "metadata": {},
   "source": [
    "### Part 4\n",
    "Write a script that translates RNAseq data to amino acid data\n",
    "* output fasta file\n",
    "* list of amino acids for each transcript"
   ]
  },
  {
   "cell_type": "markdown",
   "metadata": {
    "collapsed": true
   },
   "source": [
    "##### pseudo python code\n",
    "\n"
   ]
  },
  {
   "cell_type": "code",
   "execution_count": null,
   "metadata": {
    "collapsed": true
   },
   "outputs": [],
   "source": [
    "##actual python code \n",
    "\n",
    "\n"
   ]
  },
  {
   "cell_type": "markdown",
   "metadata": {},
   "source": [
    "##### Extra Notes\n"
   ]
  },
  {
   "cell_type": "markdown",
   "metadata": {},
   "source": [
    "### Part 5\n",
    "Built a HMM of the 6 transcript proteins\n",
    "* Muscle alignment --> hmmbuild --> hmmsearch\n",
    "* use bash script to loop over files"
   ]
  },
  {
   "cell_type": "markdown",
   "metadata": {
    "collapsed": true
   },
   "source": [
    "##### Psuedo code\n",
    "\n",
    "##pseudo unix code\n",
    "muscle -in <inputfule> -out <outputfile> #input file is the translated uniquetrascripts, needs to be done for each transcript\n",
    "    #repeat for each unique transcript (6) possible for loop here\n",
    "hmmbuild <hmm_file_out> <MSAfile> #MSAfile is the output of the muscle alignment, hmm_file_out builds it\n",
    "for files in RNAseqfiles\n",
    "do\n",
    "    for hmms in proteinmodels\n",
    "    do    \n",
    "        hmmsearch --tblout $files.$hmms.hits $files $hmms\n",
    "        cat $files.$hmms.hits >> $files.hits.table\n",
    "    done\n",
    "done\n",
    "\n",
    "for these steps we need the protein fasta files, the converted RNAseq files, the bioinformatic tools, and the necessary script in the repository (see the HMMs \n"
   ]
  },
  {
   "cell_type": "code",
   "execution_count": null,
   "metadata": {
    "collapsed": true
   },
   "outputs": [],
   "source": [
    "##### Unix Code\n",
    "see 'hmm.script' in 'Rodent_HMMs' repo\n",
    "\n",
    "#have to have muscle, hmmbuild, and hmmmsearch files in repo\n",
    "#muscle alignment\n",
    "for proteins in protein*.fasta #loops through all protein files\n",
    "do \n",
    "\t./muscle -in $proteins -out $proteins.align\n",
    "done\n",
    "#build models\n",
    "for align in protein*.fasta.align #builds hmms for each protein alignment\n",
    "do\n",
    "\t./hmmbuild $align.hmm $align\n",
    "done\n",
    "#search rnaseq files for protein models\n",
    "for models in protein*.fasta.align.hmm #loops through models\n",
    "do\n",
    "\tfor treatment in *.protein #Loops through treatments\n",
    "\tdo\n",
    "\t\t./hmmsearch --tblout $treatment.hits $models $treatment\n",
    "\t\tcat $treatment.hits >> $treatment.hits.table\n",
    "\tdone\n",
    "done\n",
    "\n"
   ]
  },
  {
   "cell_type": "markdown",
   "metadata": {},
   "source": [
    "##### Extra Notes\n",
    "As you can see from the above pseudocode and actual code, we found that the nested for loop needed to be opposite"
   ]
  },
  {
   "cell_type": "markdown",
   "metadata": {},
   "source": [
    "### Part 6\n",
    "We Graphically compared expression levels across groups (completed by Melissa)\n",
    "* Qualitatively compare results to Kuhns & Pluznick 2017"
   ]
  },
  {
   "cell_type": "code",
   "execution_count": null,
   "metadata": {
    "collapsed": true
   },
   "outputs": [],
   "source": [
    "#pseudo code\n",
    "\n",
    "# cat all hits files for each transcript\n",
    "# generate a table of counts - transcript, model, hits\n",
    "# read table into dataframe\n",
    "# 4 graphs - subset data (one for each sample, with 6 models)"
   ]
  },
  {
   "cell_type": "code",
   "execution_count": null,
   "metadata": {
    "collapsed": true
   },
   "outputs": [],
   "source": [
    "#actual unix code (see script Comparions.sh) in the 'Plots' repo\n",
    "\n",
    "grep -v '#' control1.protein.hits.table_rodent | awk '{print $1,$3}' | uniq -c | awk '{print $1,$2,$3}' > Control1Counts.txt\n",
    "grep -v '#' control2.protein.hits.table_rodent | awk '{print $1,$3}' | uniq -c | awk '{print $1,$2,$3}' > Control2Counts.txt\n",
    "grep -v '#' obese1.protein.hits.table_rodent | awk '{print $1,$3}' | uniq -c | awk '{print $1,$2,$3}' > Obese1Counts.txt\n",
    "grep -v '#' obese2.protein.hits.table_rodent | awk '{print $1,$3}' | uniq -c | awk '{print $1,$2,$3}' > Obese2Counts.txt"
   ]
  },
  {
   "cell_type": "code",
   "execution_count": null,
   "metadata": {
    "collapsed": true
   },
   "outputs": [],
   "source": [
    "#actual python code (see script ComparisonGraphs.py) in the 'Plots' repo\n",
    "C1data=pandas.read_table(\"Control1Counts.txt\")\n",
    "C2data=pandas.read_table(\"Control2Counts.txt\")\n",
    "O1data=pandas.read_table(\"Obese1Counts.txt\")\n",
    "O2data=pandas.read_table(\"Obese2Counts.txt\")\n",
    "\n",
    "C1data.columns=['Count','sample','Model']\n",
    "C2data.columns=['Count','sample','Model']\n",
    "O1data.columns=['Count','sample','Model']\n",
    "O2data.columns=['Count','sample','Model']\n",
    "\n",
    "ggplot(C1data,aes(x='Model',y='Count'))+geom_col(size=20)+ggtitle('Control1 Transcript Counts')+ theme ( axis_text_x = element_text ( angle = 90 ))\n",
    "ggplot(C2data,aes(x='Model',y='Count'))+geom_col(size=20)+ggtitle('Control2 Transcript Counts')+ theme ( axis_text_x = element_text ( angle = 90 ))\n",
    "ggplot(O1data,aes(x='Model',y='Count'))+geom_col(size=20)+ggtitle('Obese1 Transcript Counts')+ theme ( axis_text_x = element_text ( angle = 90 ))\n",
    "ggplot(O2data,aes(x='Model',y='Count'))+geom_col(size=20)+ggtitle('Obese2 Transcript Counts')+ theme ( axis_text_x = element_text ( angle = 90 ))"
   ]
  },
  {
   "cell_type": "code",
   "execution_count": null,
   "metadata": {
    "collapsed": true
   },
   "outputs": [],
   "source": [
    "#### Manual test\n",
    "\n",
    "#Using the following unix code and excel, we also generated a csv file containing information regarding the frequency of hits\n",
    "#see the 'expression.script' in the 'Plots' repository:\n",
    "cat control1.protein.hits.table_nonmammalian | grep -v '#' | grep -c 'protein1'\n",
    "cat control1.protein.hits.table_nonmammalian | grep -v '#' | grep -c 'protein2'\n",
    "cat control1.protein.hits.table_nonmammalian | grep -v '#' | grep -c 'protein3'\n",
    "cat control1.protein.hits.table_nonmammalian | grep -v '#' | grep -c 'protein4'\n",
    "cat control1.protein.hits.table_nonmammalian | grep -v '#' | grep -c 'protein5'\n",
    "cat control1.protein.hits.table_nonmammalian | grep -v '#' | grep -c 'protein6'\n",
    "cat control2.protein.hits.table_nonmammalian | grep -v '#' | grep -c 'protein1'\n",
    "cat control2.protein.hits.table_nonmammalian | grep -v '#' | grep -c 'protein2'\n",
    "cat control2.protein.hits.table_nonmammalian | grep -v '#' | grep -c 'protein3'\n",
    "cat control2.protein.hits.table_nonmammalian | grep -v '#' | grep -c 'protein4'\n",
    "cat control2.protein.hits.table_nonmammalian | grep -v '#' | grep -c 'protein5'\n",
    "cat control2.protein.hits.table_nonmammalian | grep -v '#' | grep -c 'protein6'\n",
    "cat obese1.protein.hits.table_nonmammalian | grep -v '#' | grep -c 'protein1'\n",
    "cat obese1.protein.hits.table_nonmammalian | grep -v '#' | grep -c 'protein2'\n",
    "cat obese1.protein.hits.table_nonmammalian | grep -v '#' | grep -c 'protein3'\n",
    "cat obese1.protein.hits.table_nonmammalian | grep -v '#' | grep -c 'protein4'\n",
    "cat obese1.protein.hits.table_nonmammalian | grep -v '#' | grep -c 'protein5'\n",
    "cat obese1.protein.hits.table_nonmammalian | grep -v '#' | grep -c 'protein6'\n",
    "cat obese2.protein.hits.table_nonmammalian | grep -v '#' | grep -c 'protein1'\n",
    "cat obese2.protein.hits.table_nonmammalian | grep -v '#' | grep -c 'protein2'\n",
    "cat obese2.protein.hits.table_nonmammalian | grep -v '#' | grep -c 'protein3'\n",
    "cat obese2.protein.hits.table_nonmammalian | grep -v '#' | grep -c 'protein4'\n",
    "cat obese2.protein.hits.table_nonmammalian | grep -v '#' | grep -c 'protein5'\n",
    "cat obese2.protein.hits.table_nonmammalian | grep -v '#' | grep -c 'protein6'\n",
    "\n",
    "\n",
    "#after generating the table, we then plotted the table in python using the 'quickdirtyplot.py' located in the 'Plots' directory"
   ]
  },
  {
   "cell_type": "code",
   "execution_count": null,
   "metadata": {
    "collapsed": true
   },
   "outputs": [],
   "source": [
    "import pandas\n",
    "from plotnine import *\n",
    "data=pandas.read_csv(\"expressionlevels.csv\")\n",
    "plot=ggplot(data,aes(x='Protein',y='ExpressionLevel',color='Treatment'))\n",
    "plot+geom_jitter(width=.1,height=.3,alpha=.5,size=5)+theme_classic()+ggtitle('Protein Expression Levels for Each Treatment')\n"
   ]
  },
  {
   "cell_type": "markdown",
   "metadata": {},
   "source": [
    "This generates the graph seen in the image 'expressionlevels.png' in the 'Plots' repository \n"
   ]
  },
  {
   "cell_type": "markdown",
   "metadata": {},
   "source": [
    "6 models are abbreviated Lhx2,Gsta2,Slc7a12,Ptpn5,Atp12a,Synpr"
   ]
  },
  {
   "cell_type": "markdown",
   "metadata": {},
   "source": [
    "### Further Exploration\n",
    "#### 1. Change the 'Optimize for' option\n",
    "##### Qualitatively, how do discontinuous megablast (more disimilar) and blastn (somewhat similar) change your table of BLAST hits?\n",
    "The top hits for each of these blasts tend to remain the same. However, when you make the blast more disimilar (discontinous megablast) or only somewhat similar (blastn) the range of results changes. You get more sequences matching to other species and the quality of matches (e value of matches with lower max scores) also decreases. \n",
    "#### 2. Explore the effects of phylogenetic relatedness of your amino acid sequences on the performance of your HMM model\n",
    "##### What happens if you build your HMM protein model using more distantly related mammals (e.g. primates)?\n",
    "##### Do you still get the same quality hits if your HMM protein model is based on non-mammalian sequences?\n",
    "Generally, you can make some assumptions that E-value scores tend to increase as phylogenetic relationship decreases. Looking at the quality hits of other HMM protein models (between nonmammalian, rodents, and primates) shows that E-values are typically lower in nonmammals than in the mammals (rodents and primates). However, this was not always the case when you compared the rodent hmms to the primate hmms with the E-values increasing for one protein or decreasing for others. Therefore, for more closely related species you may get different e-value scores (quality hits) for each protein. "
   ]
  }
 ],
 "metadata": {
  "kernelspec": {
   "display_name": "Python 2",
   "language": "python",
   "name": "python2"
  },
  "language_info": {
   "codemirror_mode": {
    "name": "ipython",
    "version": 2
   },
   "file_extension": ".py",
   "mimetype": "text/x-python",
   "name": "python",
   "nbconvert_exporter": "python",
   "pygments_lexer": "ipython2",
   "version": "2.7.13"
  }
 },
 "nbformat": 4,
 "nbformat_minor": 2
}
