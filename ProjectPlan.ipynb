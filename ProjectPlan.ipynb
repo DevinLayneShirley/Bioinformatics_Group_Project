{
 "cells": [
  {
   "cell_type": "markdown",
   "metadata": {},
   "source": [
    "# Project Plan \n",
    "#### Devin Shirley, Madison Karlin, Katherine Koczwara, Melissa Stephens\n",
    "###### Plan made mostly by Melissa + Devin"
   ]
  },
  {
   "cell_type": "markdown",
   "metadata": {},
   "source": [
    "### Part 1\n",
    "Blast *uniquetranscripts.fasta* \n",
    "* nucleotide collection\n",
    "* normal defaults\n",
    "* highly similar sequence option\n",
    "\n",
    "Save and download descriptions for table of hits to repo (Completed by Devin + Katherine) "
   ]
  },
  {
   "cell_type": "markdown",
   "metadata": {},
   "source": [
    "### Part 2\n",
    "Using unix (katherine + Madison), make a table that includes the top hit for each transcript (6) \n",
    "* Choose with highest percent identity and highest max score"
   ]
  },
  {
   "cell_type": "code",
   "execution_count": null,
   "metadata": {
    "collapsed": true
   },
   "outputs": [],
   "source": [
    "##Pseudo unix code\n",
    "\n"
   ]
  },
  {
   "cell_type": "code",
   "execution_count": null,
   "metadata": {
    "collapsed": true
   },
   "outputs": [],
   "source": [
    "##actual unix code\n",
    "\n"
   ]
  },
  {
   "cell_type": "markdown",
   "metadata": {},
   "source": [
    "##### Extra Notes\n",
    "The accession number from the table can be searched (this is still a nucleotide sequence), on its NCBI page you then find the protein under the CDS subheading which is hyperlinked, after clicking on it you can see the name of the protein"
   ]
  },
  {
   "cell_type": "markdown",
   "metadata": {},
   "source": [
    "### Part 3\n",
    "Search NCBI protein database (https://www.ncbi.nlm.nih.gov/protein) for protein from each top hit   \n",
    "* filter by taxon\n",
    "    + View as a tree\n",
    "* Choose 10-20 protein sequences from closely related species (Muridae is family mice/rats are in)\n",
    "* Create 1 fasta file per transcript (6)\n",
    "Add each file to the github repository (these steps were completed by Devin) "
   ]
  },
  {
   "cell_type": "markdown",
   "metadata": {},
   "source": [
    "### Part 4\n",
    "Write a script that translates RNAseq data to amino acid data\n",
    "* output fasta file\n",
    "* list of amino acids for each transcript"
   ]
  },
  {
   "cell_type": "code",
   "execution_count": null,
   "metadata": {
    "collapsed": true
   },
   "outputs": [],
   "source": [
    "##pseudo unix code\n",
    "\n"
   ]
  },
  {
   "cell_type": "code",
   "execution_count": null,
   "metadata": {
    "collapsed": true
   },
   "outputs": [],
   "source": [
    "##actual unix code \n",
    "\n"
   ]
  },
  {
   "cell_type": "markdown",
   "metadata": {},
   "source": [
    "##### Extra Notes\n"
   ]
  },
  {
   "cell_type": "markdown",
   "metadata": {},
   "source": [
    "### Part 5\n",
    "Build a HMM of the 6 transcript proteins\n",
    "* Muscle alignment --> hmmbuild --> hmmsearch\n",
    "* use bash script to loop over files"
   ]
  },
  {
   "cell_type": "code",
   "execution_count": null,
   "metadata": {
    "collapsed": true
   },
   "outputs": [],
   "source": [
    "##pseudo unix code\n",
    "\n"
   ]
  },
  {
   "cell_type": "code",
   "execution_count": null,
   "metadata": {
    "collapsed": true
   },
   "outputs": [],
   "source": [
    "##actual unix code\n",
    "\n"
   ]
  },
  {
   "cell_type": "markdown",
   "metadata": {},
   "source": [
    "##### Extra Notes\n"
   ]
  },
  {
   "cell_type": "markdown",
   "metadata": {},
   "source": [
    "### Part 6\n",
    "Graphically compare expression levels across groups\n",
    "* Qualitatively compare results to Kuhns & Pluznick 2017"
   ]
  },
  {
   "cell_type": "code",
   "execution_count": null,
   "metadata": {
    "collapsed": true
   },
   "outputs": [],
   "source": [
    "#pseudo python code\n",
    "\n"
   ]
  },
  {
   "cell_type": "code",
   "execution_count": null,
   "metadata": {
    "collapsed": true
   },
   "outputs": [],
   "source": [
    "#actual python code \n",
    "\n"
   ]
  },
  {
   "cell_type": "markdown",
   "metadata": {},
   "source": [
    "##### Extra Notes\n"
   ]
  },
  {
   "cell_type": "markdown",
   "metadata": {},
   "source": [
    "### Further Exploration\n",
    "#### 1. Change the 'Optimize for' option\n",
    "##### Qualitatively, how do discontinuous megablast and blast change your table of BLAST hits?\n",
    "\n",
    "#### 2. Explore the effects of phylogenetic relatedness of your amino acid sequences on the performance of your HMM model\n",
    "##### What happens if you build your HMM protein model using more distantly related mammals (e.g. primates)?\n",
    "\n",
    "\n",
    "##### Do you still get the same quality hits if your HMM protein model is based on non-mammalian sequences?\n",
    "\n",
    "\n",
    "##### "
   ]
  },
  {
   "cell_type": "code",
   "execution_count": null,
   "metadata": {
    "collapsed": true
   },
   "outputs": [],
   "source": [
    "#pseudo code\n",
    "\n"
   ]
  },
  {
   "cell_type": "code",
   "execution_count": null,
   "metadata": {
    "collapsed": true
   },
   "outputs": [],
   "source": [
    "#actual code \n",
    "\n"
   ]
  }
 ],
 "metadata": {
  "kernelspec": {
   "display_name": "Python 2",
   "language": "python",
   "name": "python2"
  },
  "language_info": {
   "codemirror_mode": {
    "name": "ipython",
    "version": 2
   },
   "file_extension": ".py",
   "mimetype": "text/x-python",
   "name": "python",
   "nbconvert_exporter": "python",
   "pygments_lexer": "ipython2",
   "version": "2.7.13"
  }
 },
 "nbformat": 4,
 "nbformat_minor": 2
}
