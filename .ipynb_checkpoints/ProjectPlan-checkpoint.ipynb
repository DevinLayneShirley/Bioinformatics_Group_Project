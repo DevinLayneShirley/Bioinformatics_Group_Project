{
 "cells": [
  {
   "cell_type": "markdown",
   "metadata": {},
   "source": [
    "#### Project Plan\n",
    "#### Devin Shirley, Madison Karlin, Katherine Koczwara, Melissa Stephens"
   ]
  },
  {
   "cell_type": "markdown",
   "metadata": {},
   "source": [
    "Blast uniquetranscripts.fasta (nucleotide collection)\n",
    "    Default highly similar sequence\n",
    "    Save and download descriptions for table of hits to repo"
   ]
  },
  {
   "cell_type": "markdown",
   "metadata": {},
   "source": [
    "Using unix, make a table that include the top hit for each transcript (6)\n",
    "        Choose with highest percent identity and highest max score"
   ]
  },
  {
   "cell_type": "markdown",
   "metadata": {},
   "source": [
    "Search NCBI protein database\n",
    "        filter by taxon\n",
    "        Choose 10-20 protein sequences\n",
    "        Create 1 fasta file per transcript (6)"
   ]
  },
  {
   "cell_type": "markdown",
   "metadata": {},
   "source": [
    "Write a script that translates RNAseq data to amino acid data\n",
    "        output fasta file\n",
    "        list of amino acids for each transcript"
   ]
  },
  {
   "cell_type": "markdown",
   "metadata": {},
   "source": [
    "Build a HMM of the 6 transcript proteins\n",
    "        Muscle alignment --> hmmbuild --> hmmsearch\n",
    "        use bash script to loop over files"
   ]
  },
  {
   "cell_type": "markdown",
   "metadata": {},
   "source": [
    "Graphically compare expression levels across groups\n",
    "        Qualitatively compare results to Kuhns & Pluznick 2017"
   ]
  },
  {
   "cell_type": "code",
   "execution_count": null,
   "metadata": {
    "collapsed": true
   },
   "outputs": [],
   "source": []
  }
 ],
 "metadata": {
  "kernelspec": {
   "display_name": "Python 2",
   "language": "python",
   "name": "python2"
  },
  "language_info": {
   "codemirror_mode": {
    "name": "ipython",
    "version": 2
   },
   "file_extension": ".py",
   "mimetype": "text/x-python",
   "name": "python",
   "nbconvert_exporter": "python",
   "pygments_lexer": "ipython2",
   "version": "2.7.13"
  }
 },
 "nbformat": 4,
 "nbformat_minor": 2
}
